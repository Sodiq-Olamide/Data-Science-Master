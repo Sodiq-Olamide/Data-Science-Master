{
 "cells": [
  {
   "cell_type": "markdown",
   "metadata": {},
   "source": [
    "## Question 1:\n",
    "\n",
    "Create a function which will take a list as an argument and return the product of all the numbers\n",
    "after creating a flat list.\n",
    "\n",
    "Use the below-given list as an argument for your function.\n",
    "\n",
    "\n",
    "list1 = [1,2,3,4, [44,55,66, True], False, (34,56,78,89,34), {1,2,3,3,2,1}, {1:34, \"key2\": [55, 67, 78, 89], 4: (45,\n",
    "22, 61, 34)}, [56, 'data science'], 'Machine Learning']\n",
    "\n",
    "\n",
    "Note: you must extract numeric keys and values of the dictionary also."
   ]
  },
  {
   "cell_type": "code",
   "execution_count": 1,
   "metadata": {},
   "outputs": [],
   "source": [
    "list1 = [\n",
    "    1,\n",
    "    2,\n",
    "    3,\n",
    "    4,\n",
    "    [44, 55, 66, True],\n",
    "    False,\n",
    "    (34, 56, 78, 89, 34),\n",
    "    {3, 2, 1},\n",
    "    {1: 34, \"key2\": [55, 67, 78, 89], 4: (45, 22, 61, 34)},\n",
    "    [56, 'data science'],\n",
    "    'Machine Learning',\n",
    "]"
   ]
  },
  {
   "cell_type": "code",
   "execution_count": 2,
   "metadata": {},
   "outputs": [],
   "source": [
    "def product_list_num(a_list):\n",
    "    \"\"\"function which will take a list as an argument and return the product of all the numbers\n",
    "    after creating a flat list.\"\"\"\n",
    "    \n",
    "    from functools import reduce\n",
    "\n",
    "    flat_list = []  # Final list for applying the reduce function.\n",
    "    dict_list = [] # A Temporary list for extracting numbers from a dictionary.\n",
    "\n",
    "    for item in a_list:\n",
    "        # Lets First Extract the number from a dictionary\n",
    "        if type(item) == dict:  \n",
    "            for key, value in item.items():\n",
    "                if type(key) in [int, float]:\n",
    "                    dict_list.append(key)\n",
    "                if type(value) != str:\n",
    "                    dict_list.append(value)\n",
    "\n",
    "        # Lets Extract number from tuples, list and set type.\n",
    "        if type(item) in [tuple, list, set]:\n",
    "            flat_list.extend(i for i in item if type(i) in [int, float])\n",
    "        if type(item) in [int, float]:\n",
    "            flat_list.append(item)\n",
    "\n",
    "    # Now lets Extract the Dictionary into the flat list.\n",
    "    for item in dict_list:\n",
    "        if type(item) in [tuple, list]:\n",
    "            flat_list.extend(i for i in item if type(i) in [int, float])\n",
    "        if type(item) in [int, float]:\n",
    "            flat_list.append(item)\n",
    "\n",
    "    return reduce(lambda x , y : x*y , flat_list)"
   ]
  },
  {
   "cell_type": "code",
   "execution_count": 3,
   "metadata": {},
   "outputs": [
    {
     "name": "stdout",
     "output_type": "stream",
     "text": [
      "4134711838987085478833841242112000\n"
     ]
    }
   ],
   "source": [
    "print(product_list_num(list1))"
   ]
  },
  {
   "cell_type": "markdown",
   "metadata": {},
   "source": [
    "## Question: 2\n",
    "\n",
    "Write a python program for encrypting a message sent to you by your friend. The logic of encryption\n",
    "should be such that, for a the output should be z. For b, the output should be y. For c, the output should\n",
    "be x respectively. Also, the whitespace should be replaced with a dollar sign. Keep the punctuation\n",
    "marks unchanged.\n",
    "\n",
    "\n",
    "Input Sentence: I want to become a Data Scientist.\n",
    "\n",
    "\n",
    "Encrypt the above input sentence using the program you just created.\n",
    "\n",
    "\n",
    "Note: Convert the given input sentence into lowercase before encrypting. The final output should be\n",
    "lowercase."
   ]
  },
  {
   "cell_type": "code",
   "execution_count": 4,
   "metadata": {},
   "outputs": [],
   "source": [
    "def message_encrypt(message):\n",
    "    message = message.lower()\n",
    "    message_list = list(message)\n",
    "\n",
    "    # lets make an alphabetic string.\n",
    "    alphabet = 'abcdefghijklmnopqrstuvwxyz'\n",
    "\n",
    "    encrypt_mess_list = []\n",
    "    for letter in message_list:\n",
    "        if letter in alphabet:\n",
    "            letter_index = alphabet.find(letter) + 1\n",
    "            encrypt_mess_list.append(alphabet[-letter_index])\n",
    "        else: \n",
    "            encrypt_mess_list.append(letter)\n",
    "\n",
    "    encrypt_mess = ''.join(encrypt_mess_list)\n",
    "    return encrypt_mess.replace(' ', '$')\n",
    "    "
   ]
  },
  {
   "cell_type": "code",
   "execution_count": 5,
   "metadata": {},
   "outputs": [
    {
     "data": {
      "text/plain": [
       "'r$dzmg$gl$yvxlnv$z$wzgz$hxrvmgrhg.'"
      ]
     },
     "execution_count": 5,
     "metadata": {},
     "output_type": "execute_result"
    }
   ],
   "source": [
    "message_encrypt('I want to become a Data Scientist.')"
   ]
  }
 ],
 "metadata": {
  "kernelspec": {
   "display_name": "Python 3",
   "language": "python",
   "name": "python3"
  },
  "language_info": {
   "codemirror_mode": {
    "name": "ipython",
    "version": 3
   },
   "file_extension": ".py",
   "mimetype": "text/x-python",
   "name": "python",
   "nbconvert_exporter": "python",
   "pygments_lexer": "ipython3",
   "version": "3.10.9"
  },
  "orig_nbformat": 4,
  "vscode": {
   "interpreter": {
    "hash": "edc623ddfbf124741857f6b09636cf275566864704b7058907f075b75686bdda"
   }
  }
 },
 "nbformat": 4,
 "nbformat_minor": 2
}
