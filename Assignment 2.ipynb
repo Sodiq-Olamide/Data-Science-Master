{
 "cells": [
  {
   "cell_type": "markdown",
   "metadata": {},
   "source": [
    "## Question 1"
   ]
  },
  {
   "cell_type": "code",
   "execution_count": 1,
   "metadata": {},
   "outputs": [
    {
     "name": "stdout",
     "output_type": "stream",
     "text": [
      "Your score of 75 result in an C grade.\n",
      "Which is Pass.\n"
     ]
    }
   ],
   "source": [
    "# This Program receives an interger of float numbers only and displays the grade.\n",
    "grades = ['A', 'B', 'C', 'D']\n",
    "\n",
    "score = input('Please Enter your score: ')\n",
    "std_score = float(score)\n",
    "\n",
    "if std_score > 90:\n",
    "    std_grade = grades[0]\n",
    "    remark = 'Excellent'\n",
    "elif std_score > 80:\n",
    "    std_grade = grades[1]\n",
    "    remark = 'Good'\n",
    "elif std_score >=60:\n",
    "    std_grade = grades[2]\n",
    "    remark = 'Pass'   \n",
    "else:\n",
    "    std_grade = grades[3] \n",
    "    remark = 'Not good'   \n",
    "\n",
    "print(f'Your score of {score} result in an {std_grade} grade.\\nWhich is {remark}.')"
   ]
  },
  {
   "attachments": {},
   "cell_type": "markdown",
   "metadata": {},
   "source": [
    "## Question 2"
   ]
  },
  {
   "cell_type": "code",
   "execution_count": 2,
   "metadata": {},
   "outputs": [
    {
     "name": "stdout",
     "output_type": "stream",
     "text": [
      "Your Bike cost 4000Rs, therefore your payable tax is 200.0Rs.\n"
     ]
    }
   ],
   "source": [
    "# This program uses the cost price of a bike to determine the payable road tax.\n",
    "\n",
    "tax_rate = [0.15, 0.1, 0.05]\n",
    "threshold = [100000, 50000]\n",
    "\n",
    "cost = input('Enter the cost of the bike: ')\n",
    "bike_cost =float(cost)\n",
    "\n",
    "if bike_cost > threshold[0]:\n",
    "    tax = bike_cost * tax_rate[0]\n",
    "elif bike_cost > threshold[1]:\n",
    "    tax = bike_cost * tax_rate[1]\n",
    "else:\n",
    "    tax = bike_cost * tax_rate[2]\n",
    "    \n",
    "print(f'Your Bike cost {cost}Rs, therefore your payable tax is {tax}Rs.')"
   ]
  },
  {
   "cell_type": "markdown",
   "metadata": {},
   "source": [
    "## Question 3"
   ]
  },
  {
   "cell_type": "code",
   "execution_count": 3,
   "metadata": {},
   "outputs": [
    {
     "name": "stdout",
     "output_type": "stream",
     "text": [
      "Red Fort\n"
     ]
    }
   ],
   "source": [
    "# This program displays the monuments in the city, city does not exist it displays 'None' instead.\n",
    "\n",
    "city_monuments_dict = {\n",
    "    'Delhi': 'Red Fort',\n",
    "    'Agra': 'Taj Mahal',\n",
    "    'Jaipur': 'Jal Mahal'\n",
    "}\n",
    "\n",
    "city = input('Enter a city name')\n",
    "city = city.capitalize()\n",
    "\n",
    "print(city_monuments_dict.get(city))"
   ]
  },
  {
   "attachments": {},
   "cell_type": "markdown",
   "metadata": {},
   "source": [
    "## Question 4"
   ]
  },
  {
   "cell_type": "code",
   "execution_count": 4,
   "metadata": {},
   "outputs": [
    {
     "name": "stdout",
     "output_type": "stream",
     "text": [
      "400 is divisible by 3 4 times\n"
     ]
    }
   ],
   "source": [
    "# This program first checks if the given number is greater than 10, \n",
    "# then counts the number of times it can be divisible by three\n",
    "number = input('Enter a number')\n",
    "given_number = float(number)\n",
    "count = 0\n",
    "\n",
    "while given_number > 10:\n",
    "    result = given_number/3\n",
    "    count+=1\n",
    "    given_number = result\n",
    "\n",
    "print(f'{number} is divisible by 3 {count} times')"
   ]
  },
  {
   "cell_type": "markdown",
   "metadata": {},
   "source": [
    "## Question 5"
   ]
  },
  {
   "cell_type": "markdown",
   "metadata": {},
   "source": [
    "According to Google:\n",
    "Python while loop is used to run a block code until a certain condition is met. \n",
    "Here, A while loop evaluates the condition. \n",
    "If the condition evaluates to True , the code inside the while loop is executed."
   ]
  },
  {
   "cell_type": "code",
   "execution_count": 5,
   "metadata": {},
   "outputs": [
    {
     "name": "stdout",
     "output_type": "stream",
     "text": [
      "The individual will write a promotion exam 12 times.\n"
     ]
    }
   ],
   "source": [
    "# Example:\n",
    "# if we want to know how many promotion exams an employee will have, given that\n",
    "# promotion exams is conducted every three(3) years. The employee current age at the \n",
    "# start of the service will, and with a fix retirement age of 65 years.\n",
    "\n",
    "current_age = int(input(\"Enter age the employee started working\"))\n",
    "retirement_age = 65\n",
    "proExam_interval = 3\n",
    "\n",
    "# Counter to keep track of the number of promotion exams.\n",
    "counter = -1\n",
    "# We started the counter at '-1' because the first promotion exam will be counducted\n",
    "# the first 2 years of work.\n",
    "\n",
    "while current_age < retirement_age:\n",
    "    counter += 1\n",
    "    current_age+=proExam_interval\n",
    "    \n",
    "print(f'The individual will write a promotion exam {counter} times.')\n",
    "    \n"
   ]
  },
  {
   "cell_type": "markdown",
   "metadata": {},
   "source": [
    "## Question 6"
   ]
  },
  {
   "cell_type": "code",
   "execution_count": 6,
   "metadata": {},
   "outputs": [
    {
     "name": "stdout",
     "output_type": "stream",
     "text": [
      "* \n",
      "* * \n",
      "* * * \n",
      "* * * * \n",
      "* * * * * \n"
     ]
    }
   ],
   "source": [
    "num = 5\n",
    "row = 0\n",
    "\n",
    "while row < num:\n",
    "    star = row + 1\n",
    "    while star>0:\n",
    "        print('*', end=' ')\n",
    "        star = star - 1\n",
    "    row = row + 1\n",
    "    print('') # we want new line"
   ]
  },
  {
   "cell_type": "code",
   "execution_count": 7,
   "metadata": {},
   "outputs": [
    {
     "name": "stdout",
     "output_type": "stream",
     "text": [
      "* * * * * \n",
      "* * * * \n",
      "* * * \n",
      "* * \n",
      "* \n"
     ]
    }
   ],
   "source": [
    "num = 5\n",
    "row = 0\n",
    "\n",
    "while num > row:\n",
    "    star =  num \n",
    "    while star > 0:\n",
    "        print('*', end=' ')\n",
    "        star = star - 1\n",
    "    num = num - 1\n",
    "    print('') # we want new line"
   ]
  },
  {
   "cell_type": "code",
   "execution_count": 8,
   "metadata": {},
   "outputs": [
    {
     "name": "stdout",
     "output_type": "stream",
     "text": [
      "* * * * * \n",
      "* * * * \n",
      "* * * \n",
      "* * \n",
      "* \n",
      "* \n",
      "* * \n",
      "* * * \n",
      "* * * * \n",
      "* * * * * \n"
     ]
    }
   ],
   "source": [
    "stop = False\n",
    "while stop == False:\n",
    "    \n",
    "    num = 5\n",
    "    row = 0\n",
    "\n",
    "    while num > row:\n",
    "        star =  num\n",
    "        while star > 0:\n",
    "            print('*', end=' ')\n",
    "            star = star - 1\n",
    "        num -= 1\n",
    "        print('') # we want new line\n",
    "    \n",
    "    num = 5\n",
    "    row = 0\n",
    "\n",
    "    while row < num:\n",
    "        star = row + 1\n",
    "        while star>0:\n",
    "            print('*', end=' ')\n",
    "            star = star - 1\n",
    "        row += 1\n",
    "        print('') # we want new line\n",
    "\n",
    "    stop = True"
   ]
  },
  {
   "cell_type": "markdown",
   "metadata": {},
   "source": [
    "## Question 7"
   ]
  },
  {
   "cell_type": "code",
   "execution_count": 9,
   "metadata": {},
   "outputs": [
    {
     "name": "stdout",
     "output_type": "stream",
     "text": [
      "10\n",
      "9\n",
      "8\n",
      "7\n",
      "6\n",
      "5\n",
      "4\n",
      "3\n",
      "2\n",
      "1\n"
     ]
    }
   ],
   "source": [
    "num = 10\n",
    "\n",
    "while num > 0:\n",
    "    print(num)\n",
    "    num-=1"
   ]
  },
  {
   "cell_type": "code",
   "execution_count": null,
   "metadata": {},
   "outputs": [],
   "source": []
  }
 ],
 "metadata": {
  "kernelspec": {
   "display_name": "Python 3",
   "language": "python",
   "name": "python3"
  },
  "language_info": {
   "codemirror_mode": {
    "name": "ipython",
    "version": 3
   },
   "file_extension": ".py",
   "mimetype": "text/x-python",
   "name": "python",
   "nbconvert_exporter": "python",
   "pygments_lexer": "ipython3",
   "version": "3.10.9"
  },
  "orig_nbformat": 4,
  "vscode": {
   "interpreter": {
    "hash": "edc623ddfbf124741857f6b09636cf275566864704b7058907f075b75686bdda"
   }
  }
 },
 "nbformat": 4,
 "nbformat_minor": 2
}
